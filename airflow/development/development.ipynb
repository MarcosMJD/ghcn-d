{
 "cells": [
  {
   "cell_type": "code",
   "execution_count": 9,
   "id": "2d59d820",
   "metadata": {},
   "outputs": [],
   "source": [
    "import os\n",
    "import logging\n",
    "from datetime import datetime, timedelta\n",
    "from sqlalchemy import create_engine\n",
    "import pyarrow.csv as pv\n",
    "import pyarrow.parquet as pq\n",
    "import pyarrow.compute as pc\n",
    "import pandas as pd\n",
    "\n",
    "URL_PREFIX = 'https://noaa-ghcn-pds.s3.amazonaws.com'\n",
    "TEMP_STORAGE_PATH = os.getenv('TEMP_STORAGE_PATH', './data')\n",
    "START_YEAR = int(os.getenv(\"START_YEAR\", \"1760\"))\n",
    "PG_SCHEMA = 'ghcnd'\n",
    "\n",
    "csv_schema = {\n",
    "    'id': 'string',\n",
    "    'date': 'string',\n",
    "    'element': 'string',\n",
    "    'value': 'int32',\n",
    "    'm_flag': 'string',\n",
    "    'q_flag': 'string',\n",
    "    's_flag': 'string',\n",
    "    'obs_time': 'int16',\n",
    "}\n",
    "\n",
    "def format_to_parquet(**kwargs):\n",
    "    year = kwargs['year']\n",
    "    src_file = kwargs['src_file']\n",
    "    header = kwargs['column_names']\n",
    "    column_types = kwargs['column_types']\n",
    "    if not src_file.endswith('.csv'):\n",
    "        logging.error(\"Can only accept source files in CSV format, for the moment\")\n",
    "        return\n",
    "    table = pv.read_csv(\n",
    "      src_file,\n",
    "      read_options = pv.ReadOptions(column_names=column_names),\n",
    "      convert_options = pv.ConvertOptions(column_types=column_types)\n",
    "    )\n",
    "    table = table \\\n",
    "        .append_column('parsed_date', pc.strptime(table.column(\"date\"), format='%Y%m%d', unit='s').cast('date32')) \\\n",
    "        .drop(['date']) \\\n",
    "        .rename_columns(['id','element','value','m_flag','q_flag','s_flag','obs_time','date'])\n",
    "    pq.write_table(table, src_file.replace('.csv', '.parquet'))\n",
    "\n",
    "def parquet_to_pg(**kwargs):\n",
    "\n",
    "    src_file = kwargs['src_file']\n",
    "    table_name = kwargs['table_name']\n",
    "    df = pq.read_table(src_file).to_pandas()\n",
    "    print('read done')\n",
    "    print(df.dtypes)\n",
    "    dbschema = PG_SCHEMA\n",
    "    user = \"root\"\n",
    "    password = \"root\"\n",
    "    host = \"localhost\"\n",
    "    port = 5432\n",
    "    db = \"ghcn-d\"\n",
    "    cmd = f'postgresql://{user}:{password}@{host}:{port}/{db}'\n",
    "    engine = create_engine(cmd, connect_args={'options': f'-csearch_path={dbschema}'})\n",
    "    df.to_sql(table_name, engine, if_exists='replace', chunksize=1000, index=True, method='multi')\n"
   ]
  },
  {
   "cell_type": "code",
   "execution_count": 2,
   "id": "59da93d0",
   "metadata": {},
   "outputs": [],
   "source": [
    "year = 2022\n",
    "column_names = ['id','date','element','value','m_flag','q_flag','s_flag','obs_time']\n",
    "csv_file_name = f'/{year}.csv'\n",
    "dataset_url = URL_PREFIX + '/csv' + csv_file_name\n",
    "csv_file_path = TEMP_STORAGE_PATH + csv_file_name\n",
    "parquet_file_name = csv_file_name.replace('.csv', '.parquet')\n",
    "parquet_file_path = TEMP_STORAGE_PATH + parquet_file_name\n",
    "table_name = f\"{year}\""
   ]
  },
  {
   "cell_type": "code",
   "execution_count": null,
   "id": "e9ab32ae",
   "metadata": {},
   "outputs": [],
   "source": [
    "f\"if ! [ -f {csv_file_path} ] ; then  curl -sS {dataset_url} > {csv_file_path};   fi\""
   ]
  },
  {
   "cell_type": "code",
   "execution_count": null,
   "id": "f97329fd",
   "metadata": {},
   "outputs": [],
   "source": [
    "format_to_parquet(**{\"src_file\": csv_file_path,\n",
    "            \"column_names\": column_names,\n",
    "            \"column_types\": csv_schema,\n",
    "            \"year\": year})"
   ]
  },
  {
   "cell_type": "code",
   "execution_count": null,
   "id": "5f81efd6",
   "metadata": {},
   "outputs": [],
   "source": [
    "parquet_to_pg(**{\"src_file\": parquet_file_path,\n",
    "          \"table_name\": table_name})"
   ]
  },
  {
   "cell_type": "code",
   "execution_count": 3,
   "id": "7ecc0cab",
   "metadata": {},
   "outputs": [],
   "source": [
    "df = pd.read_parquet(parquet_file_path)"
   ]
  },
  {
   "cell_type": "code",
   "execution_count": 34,
   "id": "3b7237c2",
   "metadata": {},
   "outputs": [],
   "source": [
    "a = df[0:100000]"
   ]
  },
  {
   "cell_type": "code",
   "execution_count": 35,
   "id": "d188503e",
   "metadata": {},
   "outputs": [
    {
     "data": {
      "text/plain": [
       "100000"
      ]
     },
     "execution_count": 35,
     "metadata": {},
     "output_type": "execute_result"
    }
   ],
   "source": [
    "len(a)"
   ]
  },
  {
   "cell_type": "code",
   "execution_count": 36,
   "id": "0fc15d5d",
   "metadata": {},
   "outputs": [
    {
     "data": {
      "text/plain": [
       "<sqlalchemy.engine.base.Connection at 0x266ac0bc370>"
      ]
     },
     "execution_count": 36,
     "metadata": {},
     "output_type": "execute_result"
    }
   ],
   "source": [
    "dbschema = PG_SCHEMA\n",
    "user = \"root\"\n",
    "password = \"root\"\n",
    "host = \"localhost\"\n",
    "port = 5432\n",
    "db = \"ghcn-d\"\n",
    "cmd = f'postgresql://{user}:{password}@{host}:{port}/{db}'\n",
    "engine = create_engine(cmd, connect_args={'options': f'-csearch_path={dbschema}'})\n",
    "engine.connect()"
   ]
  },
  {
   "cell_type": "code",
   "execution_count": 38,
   "id": "a920f2cc",
   "metadata": {},
   "outputs": [
    {
     "name": "stdout",
     "output_type": "stream",
     "text": [
      "CPU times: total: 2.73 s\n",
      "Wall time: 5.15 s\n"
     ]
    },
    {
     "data": {
      "text/plain": [
       "1000"
      ]
     },
     "execution_count": 38,
     "metadata": {},
     "output_type": "execute_result"
    }
   ],
   "source": [
    "%time a.to_sql(table_name, engine, if_exists='replace', index=True)"
   ]
  },
  {
   "cell_type": "code",
   "execution_count": 33,
   "id": "c6f1d340",
   "metadata": {},
   "outputs": [
    {
     "data": {
      "text/plain": [
       "10229506"
      ]
     },
     "execution_count": 33,
     "metadata": {},
     "output_type": "execute_result"
    }
   ],
   "source": [
    "len(df)"
   ]
  },
  {
   "cell_type": "code",
   "execution_count": 24,
   "id": "47b66b75",
   "metadata": {},
   "outputs": [
    {
     "data": {
      "text/plain": [
       "800000"
      ]
     },
     "execution_count": 24,
     "metadata": {},
     "output_type": "execute_result"
    }
   ],
   "source": [
    "a.size"
   ]
  },
  {
   "cell_type": "code",
   "execution_count": null,
   "id": "00673625",
   "metadata": {},
   "outputs": [],
   "source": []
  }
 ],
 "metadata": {
  "kernelspec": {
   "display_name": "Python 3 (ipykernel)",
   "language": "python",
   "name": "python3"
  },
  "language_info": {
   "codemirror_mode": {
    "name": "ipython",
    "version": 3
   },
   "file_extension": ".py",
   "mimetype": "text/x-python",
   "name": "python",
   "nbconvert_exporter": "python",
   "pygments_lexer": "ipython3",
   "version": "3.8.12"
  }
 },
 "nbformat": 4,
 "nbformat_minor": 5
}
